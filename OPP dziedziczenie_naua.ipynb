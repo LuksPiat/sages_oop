{
 "cells": [
  {
   "cell_type": "code",
   "execution_count": 179,
   "metadata": {
    "collapsed": false
   },
   "outputs": [],
   "source": [
    "class Vechicule:\n",
    "    \n",
    "    population = 0\n",
    "\n",
    "    def __init__(self, marka, model, silnik):\n",
    "        self.marka = marka\n",
    "        self.model = model\n",
    "        self.silnik = silnik\n",
    "        self.population +=1\n",
    "\n",
    "        \n",
    "    def __repr__(self):\n",
    "        return \"{kls} with: {mark}, {mode}, {siln}.\".format(\n",
    "            kls=self.__class__, mode=self.model, siln=self.silnik)\n",
    "\n",
    "class Car(Vechicule):\n",
    "    \n",
    "    car_counter = 0\n",
    "    \n",
    "    def __init__(self, rodzaj, *args):\n",
    "        super().__init__(*args)\n",
    "        self.rodzaj=rodzaj\n",
    "        self.car_counter=Car.car_counter\n",
    "        Car.car_counter +=1\n",
    "    def __repr__(self):\n",
    "        return \"{kls} with: {mark}, {mode}, {siln}KM. Samochod {rodz}\".format(\n",
    "            kls=self.__class__, mark=self.marka, mode=self.model, siln=self.silnik, rodz=self.rodzaj)\n",
    "\n",
    "class Truck(Vechicule):\n",
    "    \n",
    "    truck_counter = 0\n",
    "    \n",
    "    def __init__(self, rodzaj1, *args):\n",
    "        super().__init__(*args)\n",
    "        self.rodzaj1=rodzaj1\n",
    "        self.truck_counter=Truck.truck_counter\n",
    "        Truck.truck_counter +=1\n",
    "    def __repr__(self):\n",
    "        return \"{kls} with: {mark}, {mode}, {siln}KM. Samochod {rodz1}\".format(\n",
    "            kls=self.__class__, mark=self.marka, mode=self.model, siln=self.silnik, rodz1=self.rodzaj1)\n",
    "@classmethod\n",
    "def ppl():\n",
    "        a = Car.car_counter + Truck.truck_counter\n",
    "        return \"Liczba uczestnikow = {a}\""
   ]
  },
  {
   "cell_type": "code",
   "execution_count": 170,
   "metadata": {
    "collapsed": false
   },
   "outputs": [],
   "source": [
    "os1 = Car('osobowy', 'Volkswagen', 'Jetta', 78)"
   ]
  },
  {
   "cell_type": "code",
   "execution_count": 171,
   "metadata": {
    "collapsed": false
   },
   "outputs": [],
   "source": [
    "tr1 = Truck('ciezarowy', 'MAN', 'Turbo', 350)"
   ]
  },
  {
   "cell_type": "code",
   "execution_count": 172,
   "metadata": {
    "collapsed": false
   },
   "outputs": [
    {
     "data": {
      "text/plain": [
       "\"<class '__main__.Car'> with: Volkswagen, Jetta, 78KM. Samochod osobowy\""
      ]
     },
     "execution_count": 172,
     "metadata": {},
     "output_type": "execute_result"
    }
   ],
   "source": [
    "repr(os1)"
   ]
  },
  {
   "cell_type": "code",
   "execution_count": 173,
   "metadata": {
    "collapsed": false
   },
   "outputs": [
    {
     "data": {
      "text/plain": [
       "\"<class '__main__.Truck'> with: MAN, Turbo, 350KM. Samochod ciezarowy\""
      ]
     },
     "execution_count": 173,
     "metadata": {},
     "output_type": "execute_result"
    }
   ],
   "source": [
    "repr(tr1)"
   ]
  },
  {
   "cell_type": "code",
   "execution_count": 174,
   "metadata": {
    "collapsed": false
   },
   "outputs": [
    {
     "data": {
      "text/plain": [
       "1"
      ]
     },
     "execution_count": 174,
     "metadata": {},
     "output_type": "execute_result"
    }
   ],
   "source": [
    "Truck.truck_counter"
   ]
  },
  {
   "cell_type": "code",
   "execution_count": 175,
   "metadata": {
    "collapsed": false
   },
   "outputs": [
    {
     "data": {
      "text/plain": [
       "1"
      ]
     },
     "execution_count": 175,
     "metadata": {},
     "output_type": "execute_result"
    }
   ],
   "source": [
    "Car.car_counter"
   ]
  },
  {
   "cell_type": "code",
   "execution_count": 182,
   "metadata": {
    "collapsed": false
   },
   "outputs": [
    {
     "ename": "NameError",
     "evalue": "name 'a' is not defined",
     "output_type": "error",
     "traceback": [
      "\u001b[0;31m---------------------------------------------------------------------------\u001b[0m",
      "\u001b[0;31mNameError\u001b[0m                                 Traceback (most recent call last)",
      "\u001b[0;32m<ipython-input-182-60b725f10c9c>\u001b[0m in \u001b[0;36m<module>\u001b[0;34m()\u001b[0m\n\u001b[0;32m----> 1\u001b[0;31m \u001b[0ma\u001b[0m\u001b[0;34m\u001b[0m\u001b[0m\n\u001b[0m",
      "\u001b[0;31mNameError\u001b[0m: name 'a' is not defined"
     ]
    }
   ],
   "source": [
    "a"
   ]
  },
  {
   "cell_type": "code",
   "execution_count": 168,
   "metadata": {
    "collapsed": false
   },
   "outputs": [
    {
     "data": {
      "text/plain": [
       "2"
      ]
     },
     "execution_count": 168,
     "metadata": {},
     "output_type": "execute_result"
    }
   ],
   "source": [
    "Car.car_counter + Truck.truck_counter"
   ]
  },
  {
   "cell_type": "code",
   "execution_count": null,
   "metadata": {
    "collapsed": true
   },
   "outputs": [],
   "source": []
  }
 ],
 "metadata": {
  "kernelspec": {
   "display_name": "Python 3",
   "language": "python",
   "name": "python3"
  },
  "language_info": {
   "codemirror_mode": {
    "name": "ipython",
    "version": 3
   },
   "file_extension": ".py",
   "mimetype": "text/x-python",
   "name": "python",
   "nbconvert_exporter": "python",
   "pygments_lexer": "ipython3",
   "version": "3.6.6"
  }
 },
 "nbformat": 4,
 "nbformat_minor": 2
}
