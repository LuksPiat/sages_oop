{
 "cells": [
  {
   "cell_type": "code",
   "execution_count": 288,
   "metadata": {
    "collapsed": false
   },
   "outputs": [],
   "source": [
    "class Rod:\n",
    "    def __init__(self, name, surname, age, birth_date, birth_place, father, weight, height, sex=None):\n",
    "        self.name = name\n",
    "        self.surname = surname\n",
    "        self. age = age\n",
    "        self.birth_date = birth_date\n",
    "        self.birth_place = birth_place\n",
    "        self.father = father\n",
    "        self.sex = sex\n",
    "        self.weight = weight\n",
    "        self.height = height\n",
    "    def kto_ty(self):\n",
    "        if self.sex == None:\n",
    "            print('Hej, jestem {name} {surname}, mam {age} lat. Urodziem sie {birth_date} w {birth_place}'.format(\n",
    "            name = self.name,\n",
    "            surname = self.surname,\n",
    "            age = self.age,\n",
    "            birth_date = self.birth_date,\n",
    "            birth_place =  self.birth_place))\n",
    "        else:\n",
    "            print('Hej, jestem {name} {surname}, mam {age} lat. Urodzilam sie {birth_date} w {birth_place}'.format(\n",
    "            name = self.name,\n",
    "            surname = self.surname,\n",
    "            age = self.age,\n",
    "            birth_date = self.birth_date,\n",
    "            birth_place =  self.birth_place))\n",
    "    \n",
    "    def check_bmi(self):\n",
    "        bmi = round((self.weight/(self.height/100) ** 2), 1)\n",
    "        \n",
    "        if bmi <= 18.5:\n",
    "            status = 'niedowaga'\n",
    "        elif bmi > 18.5 and bmi < 25:\n",
    "            status = 'w normie'\n",
    "        elif bmi > 30:\n",
    "            status = 'nadwaga'\n",
    "        print(\"Twoje BMI wynosi {}. Czyli {}\". format(bmi, status))\n",
    "    \n",
    "    @property\n",
    "    def kto_tata(self):\n",
    "        return \"Moj tata to {father}\".format(father = self.father)\n",
    "       \n",
    "    def __repr__(self):\n",
    "        return \"{} with name: {}\".format(self.__class__, self.name)\n",
    "    \n",
    "    def __str__(self):\n",
    "        if self.sex == None:\n",
    "            return \"{} {} syn {}\".format(self.name, self.surname, self.father)\n",
    "        else:\n",
    "            return \"{} {} corka {}\".format(self.name, self.surname, self.father)\n",
    "    @classmethod\n",
    "    def kto_starszy(self, other):\n",
    "        return self.age > other.age"
   ]
  },
  {
   "cell_type": "code",
   "execution_count": 289,
   "metadata": {
    "collapsed": false
   },
   "outputs": [],
   "source": [
    "class Rodzina_Lukasza_P(Rod):\n",
    "    def __init__(self, *args):\n",
    "        super().__init__(*args)"
   ]
  },
  {
   "cell_type": "code",
   "execution_count": 290,
   "metadata": {
    "collapsed": true
   },
   "outputs": [],
   "source": [
    "class Rodzina_Tadeo_P(Rod):\n",
    "    def __init__(self, *args):\n",
    "        super().__init__(*args)"
   ]
  },
  {
   "cell_type": "code",
   "execution_count": 291,
   "metadata": {
    "collapsed": false
   },
   "outputs": [],
   "source": [
    "tadeo = Rodzina_Tadeo_P('Tadeusz', 'Piatkowski', 68, '01.01.1950', 'Brzeg', 'Andrzej Piatkowski', 95, 175)"
   ]
  },
  {
   "cell_type": "code",
   "execution_count": 292,
   "metadata": {
    "collapsed": true
   },
   "outputs": [],
   "source": [
    "zofija = Rodzina_Tadeo_P('Zofia', 'Piatkowska', 66, '20.01.1952', 'Brzeg', 'Tadeusz Koziol', 70, 170)"
   ]
  },
  {
   "cell_type": "code",
   "execution_count": 293,
   "metadata": {
    "collapsed": true
   },
   "outputs": [],
   "source": [
    "aga = Rodzina_Tadeo_P('Agnieszka', 'Piatkowska', 42, '10.10.1976', 'Siedlce', 'Tadeusz Piatkowski', 65, 170)"
   ]
  },
  {
   "cell_type": "code",
   "execution_count": 294,
   "metadata": {
    "collapsed": true
   },
   "outputs": [],
   "source": [
    "jacek = Rodzina_Tadeo_P('Jacek', 'Piatkowski', 39, '08.09.1979', 'Siedlce', 'Tadeusz Piatkowski', 85, 181)"
   ]
  },
  {
   "cell_type": "code",
   "execution_count": 295,
   "metadata": {
    "collapsed": true
   },
   "outputs": [],
   "source": [
    "luki_syn = Rodzina_Tadeo_P('Lukasz', 'Piatkowski', 35, '12.12.1982', 'Siedlce', 'Tadeusz Piatkowski', 80, 180)"
   ]
  },
  {
   "cell_type": "code",
   "execution_count": 296,
   "metadata": {
    "collapsed": true
   },
   "outputs": [],
   "source": [
    "ania = Rodzina_Tadeo_P('Ania', 'Piatkowska', 29, '01.01.1987', 'Siedlce', 'Tadeusz Piatkowski', 59, 175)"
   ]
  },
  {
   "cell_type": "code",
   "execution_count": 297,
   "metadata": {
    "collapsed": false
   },
   "outputs": [],
   "source": [
    "tadek = Rodzina_Lukasza_P('Tadeusz', 'Piatkowski', 0, '18.08.2018', 'Warszawa', 'Lukasz Piatkowski', 6, 63)"
   ]
  },
  {
   "cell_type": "code",
   "execution_count": 298,
   "metadata": {
    "collapsed": true
   },
   "outputs": [],
   "source": [
    "kasia = Rodzina_Lukasza_P('Katarzyna', 'Piatkowska', 30, '27.12.1987', 'Siemiatycze', 'Slawomir Romaniuk', 75, 178, 'f')"
   ]
  },
  {
   "cell_type": "code",
   "execution_count": 299,
   "metadata": {
    "collapsed": true
   },
   "outputs": [],
   "source": [
    "luki = Rodzina_Lukasza_P('Lukasz', 'Piatkowski', 35, '12.12.1982', 'Siedlce', 'Tadeusz Piatkowski', 80, 180)"
   ]
  },
  {
   "cell_type": "code",
   "execution_count": 329,
   "metadata": {
    "collapsed": false
   },
   "outputs": [
    {
     "data": {
      "text/plain": [
       "'Tadeusz Piatkowski syn Andrzej Piatkowski'"
      ]
     },
     "execution_count": 329,
     "metadata": {},
     "output_type": "execute_result"
    }
   ],
   "source": [
    "str(tadeo)"
   ]
  },
  {
   "cell_type": "code",
   "execution_count": 332,
   "metadata": {
    "collapsed": false
   },
   "outputs": [
    {
     "name": "stdout",
     "output_type": "stream",
     "text": [
      "Twoje BMI wynosi 31.0. Czyli nadwaga\n"
     ]
    }
   ],
   "source": [
    "tadeo.check_bmi()"
   ]
  },
  {
   "cell_type": "code",
   "execution_count": 300,
   "metadata": {
    "collapsed": false
   },
   "outputs": [
    {
     "name": "stdout",
     "output_type": "stream",
     "text": [
      "Hej, jestem Tadeusz Piatkowski, mam 0 lat. Urodziem sie 18.08.2018 w Warszawa\n"
     ]
    }
   ],
   "source": [
    "tadek.kto_ty()"
   ]
  },
  {
   "cell_type": "code",
   "execution_count": 330,
   "metadata": {
    "collapsed": false
   },
   "outputs": [
    {
     "data": {
      "text/plain": [
       "\"<class '__main__.Rodzina_Tadeo_P'> with name: Tadeusz\""
      ]
     },
     "execution_count": 330,
     "metadata": {},
     "output_type": "execute_result"
    }
   ],
   "source": [
    "repr(tadeo)"
   ]
  },
  {
   "cell_type": "code",
   "execution_count": 301,
   "metadata": {
    "collapsed": false
   },
   "outputs": [
    {
     "name": "stdout",
     "output_type": "stream",
     "text": [
      "Twoje BMI wynosi 15.1. Czyli niedowaga\n"
     ]
    }
   ],
   "source": [
    "tadek.check_bmi()"
   ]
  },
  {
   "cell_type": "code",
   "execution_count": 335,
   "metadata": {
    "collapsed": false
   },
   "outputs": [
    {
     "name": "stdout",
     "output_type": "stream",
     "text": [
      "Hej, jestem Tadeusz Piatkowski, mam 68 lat. Urodziem sie 01.01.1950 w Brzeg\n",
      "Hej, jestem Tadeusz Piatkowski, mam 0 lat. Urodziem sie 18.08.2018 w Warszawa\n"
     ]
    }
   ],
   "source": [
    "tadeo.kto_ty()\n",
    "tadek.kto_ty()"
   ]
  },
  {
   "cell_type": "code",
   "execution_count": 302,
   "metadata": {
    "collapsed": false
   },
   "outputs": [
    {
     "name": "stdout",
     "output_type": "stream",
     "text": [
      "Twoje BMI wynosi 24.7. Czyli w normie\n"
     ]
    }
   ],
   "source": [
    "luki.check_bmi()"
   ]
  },
  {
   "cell_type": "code",
   "execution_count": 303,
   "metadata": {
    "collapsed": false
   },
   "outputs": [
    {
     "name": "stdout",
     "output_type": "stream",
     "text": [
      "Twoje BMI wynosi 23.7. Czyli w normie\n"
     ]
    }
   ],
   "source": [
    "kasia.check_bmi()"
   ]
  },
  {
   "cell_type": "code",
   "execution_count": 304,
   "metadata": {
    "collapsed": false
   },
   "outputs": [
    {
     "name": "stdout",
     "output_type": "stream",
     "text": [
      "Hej, jestem Katarzyna Piatkowska, mam 30 lat. Urodzilam sie 27.12.1987 w Siemiatycze\n"
     ]
    }
   ],
   "source": [
    "kasia.kto_ty()"
   ]
  },
  {
   "cell_type": "code",
   "execution_count": 305,
   "metadata": {
    "collapsed": false
   },
   "outputs": [
    {
     "name": "stdout",
     "output_type": "stream",
     "text": [
      "Hej, jestem Lukasz Piatkowski, mam 35 lat. Urodziem sie 12.12.1982 w Siedlce\n"
     ]
    }
   ],
   "source": [
    "luki.kto_ty()"
   ]
  },
  {
   "cell_type": "code",
   "execution_count": 306,
   "metadata": {
    "collapsed": false
   },
   "outputs": [
    {
     "data": {
      "text/plain": [
       "\"<class '__main__.Rodzina_Lukasza_P'> with name: Tadeusz\""
      ]
     },
     "execution_count": 306,
     "metadata": {},
     "output_type": "execute_result"
    }
   ],
   "source": [
    "repr(tadek)"
   ]
  },
  {
   "cell_type": "code",
   "execution_count": 307,
   "metadata": {
    "collapsed": false
   },
   "outputs": [
    {
     "data": {
      "text/plain": [
       "__main__.Rodzina_Lukasza_P"
      ]
     },
     "execution_count": 307,
     "metadata": {},
     "output_type": "execute_result"
    }
   ],
   "source": [
    "type(tadek)"
   ]
  },
  {
   "cell_type": "code",
   "execution_count": 308,
   "metadata": {
    "collapsed": false
   },
   "outputs": [
    {
     "data": {
      "text/plain": [
       "'Moj tata to Lukasz Piatkowski'"
      ]
     },
     "execution_count": 308,
     "metadata": {},
     "output_type": "execute_result"
    }
   ],
   "source": [
    "tadek.kto_tata"
   ]
  },
  {
   "cell_type": "code",
   "execution_count": 309,
   "metadata": {
    "collapsed": false
   },
   "outputs": [
    {
     "data": {
      "text/plain": [
       "'Moj tata to Slawomir Romaniuk'"
      ]
     },
     "execution_count": 309,
     "metadata": {},
     "output_type": "execute_result"
    }
   ],
   "source": [
    "kasia.kto_tata"
   ]
  },
  {
   "cell_type": "code",
   "execution_count": 310,
   "metadata": {
    "collapsed": false
   },
   "outputs": [
    {
     "data": {
      "text/plain": [
       "'Moj tata to Tadeusz Piatkowski'"
      ]
     },
     "execution_count": 310,
     "metadata": {},
     "output_type": "execute_result"
    }
   ],
   "source": [
    "luki.kto_tata"
   ]
  },
  {
   "cell_type": "code",
   "execution_count": 311,
   "metadata": {
    "collapsed": false
   },
   "outputs": [
    {
     "data": {
      "text/plain": [
       "False"
      ]
     },
     "execution_count": 311,
     "metadata": {},
     "output_type": "execute_result"
    }
   ],
   "source": [
    "tadek.age == luki.age"
   ]
  },
  {
   "cell_type": "code",
   "execution_count": 312,
   "metadata": {
    "collapsed": false
   },
   "outputs": [],
   "source": [
    "from faker import Faker\n",
    "fake = Faker('pl_PL')\n",
    "a = [fake.name() for i in range(10)]"
   ]
  },
  {
   "cell_type": "code",
   "execution_count": 313,
   "metadata": {
    "collapsed": false
   },
   "outputs": [
    {
     "data": {
      "text/plain": [
       "['Klara Kutek',\n",
       " 'Liwia Hynek',\n",
       " 'Dawid Dyda',\n",
       " 'Maksymilian Borczyk',\n",
       " 'Jacek Suchenek',\n",
       " 'Eliza Miksza',\n",
       " 'Monika Szmajda',\n",
       " 'Jan Chaberek',\n",
       " 'Oliwier Karkocha',\n",
       " 'Filip Nesterowicz']"
      ]
     },
     "execution_count": 313,
     "metadata": {},
     "output_type": "execute_result"
    }
   ],
   "source": [
    "a"
   ]
  },
  {
   "cell_type": "code",
   "execution_count": 314,
   "metadata": {
    "collapsed": false
   },
   "outputs": [
    {
     "data": {
      "text/plain": [
       "'Tadeusz Piatkowski syn Lukasz Piatkowski'"
      ]
     },
     "execution_count": 314,
     "metadata": {},
     "output_type": "execute_result"
    }
   ],
   "source": [
    "str(tadek)"
   ]
  },
  {
   "cell_type": "code",
   "execution_count": 315,
   "metadata": {
    "collapsed": false
   },
   "outputs": [
    {
     "data": {
      "text/plain": [
       "'Katarzyna Piatkowska corka Slawomir Romaniuk'"
      ]
     },
     "execution_count": 315,
     "metadata": {},
     "output_type": "execute_result"
    }
   ],
   "source": [
    "str(kasia)"
   ]
  },
  {
   "cell_type": "code",
   "execution_count": 316,
   "metadata": {
    "collapsed": false
   },
   "outputs": [
    {
     "data": {
      "text/plain": [
       "\"<class '__main__.Rodzina'>\""
      ]
     },
     "execution_count": 316,
     "metadata": {},
     "output_type": "execute_result"
    }
   ],
   "source": [
    "str(Rodzina)"
   ]
  },
  {
   "cell_type": "code",
   "execution_count": 317,
   "metadata": {
    "collapsed": false
   },
   "outputs": [
    {
     "data": {
      "text/plain": [
       "__main__.Rodzina_Lukasza_P"
      ]
     },
     "execution_count": 317,
     "metadata": {},
     "output_type": "execute_result"
    }
   ],
   "source": [
    "type(tadek)"
   ]
  },
  {
   "cell_type": "code",
   "execution_count": 318,
   "metadata": {
    "collapsed": false
   },
   "outputs": [],
   "source": [
    "import pickle\n",
    "\n",
    "with open('tadek_model.pickle', 'wb') as file:\n",
    "    pickle.dump(tadek, file)"
   ]
  },
  {
   "cell_type": "code",
   "execution_count": 319,
   "metadata": {
    "collapsed": false
   },
   "outputs": [],
   "source": [
    "with open('tadek_model.pickle', 'rb') as file:\n",
    "    readed_tadek = pickle.load(file)"
   ]
  },
  {
   "cell_type": "code",
   "execution_count": 320,
   "metadata": {
    "collapsed": false
   },
   "outputs": [
    {
     "data": {
      "text/plain": [
       "<class '__main__.Rodzina_Lukasza_P'> with name: Tadeusz"
      ]
     },
     "execution_count": 320,
     "metadata": {},
     "output_type": "execute_result"
    }
   ],
   "source": [
    "readed_tadek"
   ]
  },
  {
   "cell_type": "code",
   "execution_count": 321,
   "metadata": {
    "collapsed": false
   },
   "outputs": [
    {
     "data": {
      "text/plain": [
       "<class '__main__.Rodzina_Lukasza_P'> with name: Tadeusz"
      ]
     },
     "execution_count": 321,
     "metadata": {},
     "output_type": "execute_result"
    }
   ],
   "source": [
    "tadek"
   ]
  },
  {
   "cell_type": "code",
   "execution_count": 322,
   "metadata": {
    "collapsed": false
   },
   "outputs": [
    {
     "data": {
      "text/plain": [
       "{'age': 0,\n",
       " 'birth_date': '18.08.2018',\n",
       " 'birth_place': 'Warszawa',\n",
       " 'father': 'Lukasz Piatkowski',\n",
       " 'height': 63,\n",
       " 'name': 'Tadeusz',\n",
       " 'sex': None,\n",
       " 'surname': 'Piatkowski',\n",
       " 'weight': 6}"
      ]
     },
     "execution_count": 322,
     "metadata": {},
     "output_type": "execute_result"
    }
   ],
   "source": [
    "readed_tadek.__dict__"
   ]
  },
  {
   "cell_type": "code",
   "execution_count": 323,
   "metadata": {
    "collapsed": false
   },
   "outputs": [
    {
     "data": {
      "text/plain": [
       "{'age': 0,\n",
       " 'birth_date': '18.08.2018',\n",
       " 'birth_place': 'Warszawa',\n",
       " 'father': 'Lukasz Piatkowski',\n",
       " 'height': 63,\n",
       " 'name': 'Tadeusz',\n",
       " 'sex': None,\n",
       " 'surname': 'Piatkowski',\n",
       " 'weight': 6}"
      ]
     },
     "execution_count": 323,
     "metadata": {},
     "output_type": "execute_result"
    }
   ],
   "source": [
    "tadek.__dict__"
   ]
  },
  {
   "cell_type": "code",
   "execution_count": 324,
   "metadata": {
    "collapsed": false
   },
   "outputs": [
    {
     "data": {
      "text/plain": [
       "<class '__main__.Rodzina_Lukasza_P'> with name: Tadeusz"
      ]
     },
     "execution_count": 324,
     "metadata": {},
     "output_type": "execute_result"
    }
   ],
   "source": [
    "tadek"
   ]
  },
  {
   "cell_type": "code",
   "execution_count": 342,
   "metadata": {
    "collapsed": false
   },
   "outputs": [],
   "source": [
    "import psycopg2\n",
    "\n",
    "# 127.0.0.1 = localhost\n",
    "conn = psycopg2.connect(\"host=127.0.0.1 port=5432 dbname=postgres user=postgres password=postgres\")\n",
    "cur = conn.cursor()\n",
    "\n",
    "cur.execute(\"SELECT * FROM user\")"
   ]
  },
  {
   "cell_type": "code",
   "execution_count": 343,
   "metadata": {
    "collapsed": false
   },
   "outputs": [],
   "source": [
    "cur.execute(\"CREATE TABLE rod_test (id serial PRIMARY KEY, Imie varchar, Nazwisko varchar, Data_Urodzenia varchar, Wiek integer);\")"
   ]
  },
  {
   "cell_type": "code",
   "execution_count": 357,
   "metadata": {
    "collapsed": false
   },
   "outputs": [
    {
     "ename": "InternalError",
     "evalue": "current transaction is aborted, commands ignored until end of transaction block\n",
     "output_type": "error",
     "traceback": [
      "\u001b[0;31m---------------------------------------------------------------------------\u001b[0m",
      "\u001b[0;31mInternalError\u001b[0m                             Traceback (most recent call last)",
      "\u001b[0;32m<ipython-input-357-d4ed66162e67>\u001b[0m in \u001b[0;36m<module>\u001b[0;34m()\u001b[0m\n\u001b[0;32m----> 1\u001b[0;31m \u001b[0mcur\u001b[0m\u001b[0;34m.\u001b[0m\u001b[0mexecute\u001b[0m\u001b[0;34m(\u001b[0m\u001b[0;34m\"INSERT INTO rod_test(Imie, Nazwiko, Data_urodzenia, Wiek) values('Lukasz', 'Piatkowski', '12.12.1982', 35);\"\u001b[0m\u001b[0;34m)\u001b[0m\u001b[0;34m\u001b[0m\u001b[0m\n\u001b[0m",
      "\u001b[0;31mInternalError\u001b[0m: current transaction is aborted, commands ignored until end of transaction block\n"
     ]
    }
   ],
   "source": [
    "cur.execute(\"INSERT INTO rod_test(Imie, Nazwiko, Data_urodzenia, Wiek) values('Lukasz', 'Piatkowski', '12.12.1982', 35);\")"
   ]
  },
  {
   "cell_type": "code",
   "execution_count": null,
   "metadata": {
    "collapsed": true
   },
   "outputs": [],
   "source": []
  }
 ],
 "metadata": {
  "kernelspec": {
   "display_name": "Python 3",
   "language": "python",
   "name": "python3"
  },
  "language_info": {
   "codemirror_mode": {
    "name": "ipython",
    "version": 3
   },
   "file_extension": ".py",
   "mimetype": "text/x-python",
   "name": "python",
   "nbconvert_exporter": "python",
   "pygments_lexer": "ipython3",
   "version": "3.6.6"
  }
 },
 "nbformat": 4,
 "nbformat_minor": 2
}
