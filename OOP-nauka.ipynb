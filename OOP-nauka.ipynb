{
 "cells": [
  {
   "cell_type": "code",
   "execution_count": 148,
   "metadata": {
    "collapsed": false
   },
   "outputs": [],
   "source": [
    "class Rodzina:\n",
    "    def __init__(self, name, surname, age, birth_date, birth_place, father, sex=None):\n",
    "        self.name = name\n",
    "        self.surname = surname\n",
    "        self. age = age\n",
    "        self.birth_date = birth_date\n",
    "        self.birth_place = birth_place\n",
    "        self.father = father\n",
    "        self.sex = sex\n",
    "    def kto_ty(self):\n",
    "        if self.sex == None:\n",
    "            print('Hej, jestem {name} {surname}, mam {age} lat. Urodziem sie {birth_date} w {birth_place}'.format(\n",
    "            name = self.name,\n",
    "            surname = self.surname,\n",
    "            age = self.age,\n",
    "            birth_date = self.birth_date,\n",
    "            birth_place =  self.birth_place))\n",
    "        else:\n",
    "            print('Hej, jestem {name} {surname}, mam {age} lat. Urodzilam sie {birth_date} w {birth_place}'.format(\n",
    "            name = self.name,\n",
    "            surname = self.surname,\n",
    "            age = self.age,\n",
    "            birth_date = self.birth_date,\n",
    "            birth_place =  self.birth_place))\n",
    "            \n",
    "    @property\n",
    "    def kto_tata(self):\n",
    "        return \"Moj tata to {father}\".format(father = self.father)\n",
    "       \n",
    "    def __repr__(self):\n",
    "        return \"{} with name: {}\".format(self.__class__, self.name)\n",
    "    \n",
    "    def __str__(self):\n",
    "        if self.sex == None:\n",
    "            return \"{} {} syn {}\".format(self.name, self.surname, self.father)\n",
    "        else:\n",
    "            return \"{} {} corka {}\".format(self.name, self.surname, self.father)"
   ]
  },
  {
   "cell_type": "code",
   "execution_count": 149,
   "metadata": {
    "collapsed": false
   },
   "outputs": [],
   "source": [
    "tadek = Rodzina('Tadeusz', 'Piatkowski', 0, '18.08.2018', 'Warszawa', 'Lukasz Piatkowski')"
   ]
  },
  {
   "cell_type": "code",
   "execution_count": 150,
   "metadata": {
    "collapsed": true
   },
   "outputs": [],
   "source": [
    "kasia = Rodzina('Katarzyna', 'Piatkowska', 30, '27.12.1987', 'Siemiatycze', 'Slawomir Romaniuk', 'f')"
   ]
  },
  {
   "cell_type": "code",
   "execution_count": 151,
   "metadata": {
    "collapsed": true
   },
   "outputs": [],
   "source": [
    "luki = Rodzina('Lukasz', 'Piatkowski', 35, '12.12.1982', 'Siedlce', 'Tadeusz Piatkowski')"
   ]
  },
  {
   "cell_type": "code",
   "execution_count": 152,
   "metadata": {
    "collapsed": false
   },
   "outputs": [
    {
     "name": "stdout",
     "output_type": "stream",
     "text": [
      "Hej, jestem Tadeusz Piatkowski, mam 0 lat. Urodziem sie 18.08.2018 w Warszawa\n"
     ]
    }
   ],
   "source": [
    "tadek.kto_ty()"
   ]
  },
  {
   "cell_type": "code",
   "execution_count": 153,
   "metadata": {
    "collapsed": false
   },
   "outputs": [
    {
     "name": "stdout",
     "output_type": "stream",
     "text": [
      "Hej, jestem Katarzyna Piatkowska, mam 30 lat. Urodzilam sie 27.12.1987 w Siemiatycze\n"
     ]
    }
   ],
   "source": [
    "kasia.kto_ty()"
   ]
  },
  {
   "cell_type": "code",
   "execution_count": 154,
   "metadata": {
    "collapsed": false
   },
   "outputs": [
    {
     "name": "stdout",
     "output_type": "stream",
     "text": [
      "Hej, jestem Lukasz Piatkowski, mam 35 lat. Urodziem sie 12.12.1982 w Siedlce\n"
     ]
    }
   ],
   "source": [
    "luki.kto_ty()"
   ]
  },
  {
   "cell_type": "code",
   "execution_count": 155,
   "metadata": {
    "collapsed": false
   },
   "outputs": [
    {
     "data": {
      "text/plain": [
       "\"<class '__main__.Rodzina'> with name: Tadeusz\""
      ]
     },
     "execution_count": 155,
     "metadata": {},
     "output_type": "execute_result"
    }
   ],
   "source": [
    "repr(tadek)"
   ]
  },
  {
   "cell_type": "code",
   "execution_count": 156,
   "metadata": {
    "collapsed": false
   },
   "outputs": [
    {
     "data": {
      "text/plain": [
       "__main__.Rodzina"
      ]
     },
     "execution_count": 156,
     "metadata": {},
     "output_type": "execute_result"
    }
   ],
   "source": [
    "type(tadek)"
   ]
  },
  {
   "cell_type": "code",
   "execution_count": 157,
   "metadata": {
    "collapsed": false
   },
   "outputs": [
    {
     "data": {
      "text/plain": [
       "'Moj tata to Lukasz Piatkowski'"
      ]
     },
     "execution_count": 157,
     "metadata": {},
     "output_type": "execute_result"
    }
   ],
   "source": [
    "tadek.kto_tata"
   ]
  },
  {
   "cell_type": "code",
   "execution_count": 158,
   "metadata": {
    "collapsed": false
   },
   "outputs": [
    {
     "data": {
      "text/plain": [
       "'Moj tata to Slawomir Romaniuk'"
      ]
     },
     "execution_count": 158,
     "metadata": {},
     "output_type": "execute_result"
    }
   ],
   "source": [
    "kasia.kto_tata"
   ]
  },
  {
   "cell_type": "code",
   "execution_count": 159,
   "metadata": {
    "collapsed": false
   },
   "outputs": [
    {
     "data": {
      "text/plain": [
       "'Moj tata to Tadeusz Piatkowski'"
      ]
     },
     "execution_count": 159,
     "metadata": {},
     "output_type": "execute_result"
    }
   ],
   "source": [
    "luki.kto_tata"
   ]
  },
  {
   "cell_type": "code",
   "execution_count": 160,
   "metadata": {
    "collapsed": false
   },
   "outputs": [],
   "source": [
    "from faker import Faker\n",
    "fake = Faker('pl_PL')\n",
    "a = [fake.name() for i in range(10)]"
   ]
  },
  {
   "cell_type": "code",
   "execution_count": 161,
   "metadata": {
    "collapsed": false
   },
   "outputs": [
    {
     "data": {
      "text/plain": [
       "['pani Janina Gawliczek',\n",
       " 'Janina Citko',\n",
       " 'Ewelina Kulma',\n",
       " 'Sandra Kościk',\n",
       " 'Arkadiusz Hawrylak',\n",
       " 'pani Janina Mędrala',\n",
       " 'Szymon Głownia',\n",
       " 'Ewa Basaj',\n",
       " 'Radosław Jonak',\n",
       " 'Mieszko Sporysz']"
      ]
     },
     "execution_count": 161,
     "metadata": {},
     "output_type": "execute_result"
    }
   ],
   "source": [
    "a"
   ]
  },
  {
   "cell_type": "code",
   "execution_count": 162,
   "metadata": {
    "collapsed": false
   },
   "outputs": [
    {
     "data": {
      "text/plain": [
       "'Tadeusz Piatkowski syn Lukasz Piatkowski'"
      ]
     },
     "execution_count": 162,
     "metadata": {},
     "output_type": "execute_result"
    }
   ],
   "source": [
    "str(tadek)"
   ]
  },
  {
   "cell_type": "code",
   "execution_count": 163,
   "metadata": {
    "collapsed": false
   },
   "outputs": [
    {
     "data": {
      "text/plain": [
       "'Katarzyna Piatkowska corka Slawomir Romaniuk'"
      ]
     },
     "execution_count": 163,
     "metadata": {},
     "output_type": "execute_result"
    }
   ],
   "source": [
    "str(kasia)"
   ]
  },
  {
   "cell_type": "code",
   "execution_count": 164,
   "metadata": {
    "collapsed": false
   },
   "outputs": [
    {
     "data": {
      "text/plain": [
       "\"<class '__main__.Rodzina'>\""
      ]
     },
     "execution_count": 164,
     "metadata": {},
     "output_type": "execute_result"
    }
   ],
   "source": [
    "str(Rodzina)"
   ]
  },
  {
   "cell_type": "code",
   "execution_count": 169,
   "metadata": {
    "collapsed": false
   },
   "outputs": [
    {
     "data": {
      "text/plain": [
       "__main__.Rodzina"
      ]
     },
     "execution_count": 169,
     "metadata": {},
     "output_type": "execute_result"
    }
   ],
   "source": [
    "type(tadek)"
   ]
  },
  {
   "cell_type": "code",
   "execution_count": 172,
   "metadata": {
    "collapsed": false
   },
   "outputs": [],
   "source": [
    "import pickle\n",
    "\n",
    "with open('tadek_model.pickle', 'wb') as file:\n",
    "    pickle.dump(tadek, file)"
   ]
  },
  {
   "cell_type": "code",
   "execution_count": 174,
   "metadata": {
    "collapsed": false
   },
   "outputs": [],
   "source": [
    "with open('tadek_model.pickle', 'rb') as file:\n",
    "    readed_tadek = pickle.load(file)"
   ]
  },
  {
   "cell_type": "code",
   "execution_count": 175,
   "metadata": {
    "collapsed": false
   },
   "outputs": [
    {
     "data": {
      "text/plain": [
       "<class '__main__.Rodzina'> with name: Tadeusz"
      ]
     },
     "execution_count": 175,
     "metadata": {},
     "output_type": "execute_result"
    }
   ],
   "source": [
    "readed_tadek"
   ]
  },
  {
   "cell_type": "code",
   "execution_count": 176,
   "metadata": {
    "collapsed": false
   },
   "outputs": [
    {
     "data": {
      "text/plain": [
       "<class '__main__.Rodzina'> with name: Tadeusz"
      ]
     },
     "execution_count": 176,
     "metadata": {},
     "output_type": "execute_result"
    }
   ],
   "source": [
    "tadek"
   ]
  },
  {
   "cell_type": "code",
   "execution_count": 178,
   "metadata": {
    "collapsed": false
   },
   "outputs": [
    {
     "data": {
      "text/plain": [
       "{'age': 0,\n",
       " 'birth_date': '18.08.2018',\n",
       " 'birth_place': 'Warszawa',\n",
       " 'father': 'Lukasz Piatkowski',\n",
       " 'name': 'Tadeusz',\n",
       " 'sex': None,\n",
       " 'surname': 'Piatkowski'}"
      ]
     },
     "execution_count": 178,
     "metadata": {},
     "output_type": "execute_result"
    }
   ],
   "source": [
    "readed_tadek.__dict__"
   ]
  },
  {
   "cell_type": "code",
   "execution_count": 179,
   "metadata": {
    "collapsed": false
   },
   "outputs": [
    {
     "data": {
      "text/plain": [
       "{'age': 0,\n",
       " 'birth_date': '18.08.2018',\n",
       " 'birth_place': 'Warszawa',\n",
       " 'father': 'Lukasz Piatkowski',\n",
       " 'name': 'Tadeusz',\n",
       " 'sex': None,\n",
       " 'surname': 'Piatkowski'}"
      ]
     },
     "execution_count": 179,
     "metadata": {},
     "output_type": "execute_result"
    }
   ],
   "source": [
    "tadek.__dict__"
   ]
  },
  {
   "cell_type": "code",
   "execution_count": null,
   "metadata": {
    "collapsed": true
   },
   "outputs": [],
   "source": []
  }
 ],
 "metadata": {
  "kernelspec": {
   "display_name": "Python 3",
   "language": "python",
   "name": "python3"
  },
  "language_info": {
   "codemirror_mode": {
    "name": "ipython",
    "version": 3
   },
   "file_extension": ".py",
   "mimetype": "text/x-python",
   "name": "python",
   "nbconvert_exporter": "python",
   "pygments_lexer": "ipython3",
   "version": "3.6.6"
  }
 },
 "nbformat": 4,
 "nbformat_minor": 2
}
