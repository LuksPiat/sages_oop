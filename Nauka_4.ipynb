{
 "cells": [
  {
   "cell_type": "code",
   "execution_count": 1,
   "metadata": {
    "collapsed": true
   },
   "outputs": [],
   "source": [
    "import sqlalchemy\n",
    "from sqlalchemy import create_engine\n",
    "engine_file = create_engine('sqlite:///nauka_4.sqlite', echo=True)\n",
    "from sqlalchemy import Column, Integer, String\n",
    "from sqlalchemy.ext.declarative import declarative_base\n",
    "Base = declarative_base()\n",
    "from sqlalchemy.orm import sessionmaker\n",
    "Session = sessionmaker(bind=engine_file)\n",
    "session = Session()\n",
    "from sqlalchemy import ForeignKey\n",
    "from sqlalchemy.orm import relationship"
   ]
  },
  {
   "cell_type": "code",
   "execution_count": 4,
   "metadata": {
    "collapsed": false
   },
   "outputs": [
    {
     "name": "stderr",
     "output_type": "stream",
     "text": [
      "/home/lukasz/anaconda3/lib/python3.6/site-packages/sqlalchemy/ext/declarative/clsregistry.py:120: SAWarning: This declarative base already contains a class with the same class name and module name as __main__.Car_Factory, and will be replaced in the string-lookup table.\n",
      "  item.__name__\n"
     ]
    }
   ],
   "source": [
    "class Car_Factory(Base):\n",
    "    __tablename__ = 'car_factory'\n",
    "    __table_args__ = {'extend_existing':True}\n",
    "    \n",
    "    id = Column(Integer, primary_key=True)\n",
    "    brand = Column(String, nullable=False)\n",
    "    brand_1 = relationship(\"Cars\", back_populates='car_1')\n",
    "    \n",
    "    def __repr__(self):\n",
    "        return \"{cl} with: {br}\".format(cl = self.__class__, br = self.brand)\n",
    "    \n",
    "class Cars(Base):\n",
    "    __tablename__ = 'cars'\n",
    "    __table_args__ = {'extend_existing':True}\n",
    "    \n",
    "    id = Column(Integer, primary_key=True)\n",
    "    power_engine = Column(Integer)\n",
    "    color = Column(String)\n",
    "    model = Column(String)\n",
    "    car_factory_id = Column(Integer, ForeignKey('car_factory.id'))\n",
    "    car_1 = relationship(\"Car_Factory\", back_populates='brand_1')\n",
    "    \n",
    "    def __repr__(self):\n",
    "        return \"{class_self} {model} with: engine {engine}KM; {clr}.\".format(\n",
    "        class_self = self.__class__,\n",
    "        model = self.model,\n",
    "        engine = self.engine,\n",
    "        clr = self.color)\n",
    "    "
   ]
  },
  {
   "cell_type": "code",
   "execution_count": null,
   "metadata": {
    "collapsed": true
   },
   "outputs": [],
   "source": []
  }
 ],
 "metadata": {
  "kernelspec": {
   "display_name": "Python 3",
   "language": "python",
   "name": "python3"
  },
  "language_info": {
   "codemirror_mode": {
    "name": "ipython",
    "version": 3
   },
   "file_extension": ".py",
   "mimetype": "text/x-python",
   "name": "python",
   "nbconvert_exporter": "python",
   "pygments_lexer": "ipython3",
   "version": "3.6.6"
  }
 },
 "nbformat": 4,
 "nbformat_minor": 2
}
