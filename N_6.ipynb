{
 "cells": [
  {
   "cell_type": "code",
   "execution_count": 1,
   "metadata": {
    "collapsed": true
   },
   "outputs": [],
   "source": [
    "import sqlalchemy\n",
    "from sqlalchemy import create_engine\n",
    "engine_file = create_engine('sqlite:///nauka_7.sqlite', echo=True)\n",
    "from sqlalchemy import Column, Integer, String\n",
    "from sqlalchemy.ext.declarative import declarative_base\n",
    "Base = declarative_base()\n",
    "from sqlalchemy.orm import sessionmaker\n",
    "Session = sessionmaker(bind=engine_file)\n",
    "session = Session()\n",
    "from sqlalchemy import ForeignKey\n",
    "from sqlalchemy.orm import relationship"
   ]
  },
  {
   "cell_type": "code",
   "execution_count": 2,
   "metadata": {
    "collapsed": true
   },
   "outputs": [],
   "source": [
    "class Car_Factory(Base):\n",
    "    __tablename__ = 'car_factory'\n",
    "    __table_args__ = {'extend_existing':True}\n",
    "    \n",
    "    id = Column(Integer, primary_key=True)\n",
    "    brand = Column(String, nullable=False)\n",
    "    brand_1 = relationship(\"Cars\", back_populates='car_1')\n",
    "    \n",
    "    def __repr__(self):\n",
    "        return \"{cl} with: {br}\".format(cl = self.__class__, br = self.brand)\n",
    "    \n",
    "class Cars(Base):\n",
    "    __tablename__ = 'cars'\n",
    "    __table_args__ = {'extend_existing':True}\n",
    "    \n",
    "    id = Column(Integer, primary_key=True)\n",
    "    power_engine = Column(Integer)\n",
    "    color = Column(String)\n",
    "    model = Column(String)\n",
    "    car_factory_id = Column(Integer, ForeignKey('car_factory.id'))\n",
    "    car_1 = relationship(\"Car_Factory\", back_populates='brand_1')\n",
    "    \n",
    "    def __repr__(self):\n",
    "        return \"{class_self} {model} with: engine {engine}KM; {clr}.\".format(\n",
    "        class_self = self.__class__,\n",
    "        model = self.model,\n",
    "        engine = self.power_engine,\n",
    "        clr = self.color)"
   ]
  },
  {
   "cell_type": "code",
   "execution_count": 3,
   "metadata": {
    "collapsed": false
   },
   "outputs": [
    {
     "name": "stdout",
     "output_type": "stream",
     "text": [
      "2018-11-06 20:00:38,929 INFO sqlalchemy.engine.base.Engine SELECT CAST('test plain returns' AS VARCHAR(60)) AS anon_1\n",
      "2018-11-06 20:00:38,954 INFO sqlalchemy.engine.base.Engine ()\n",
      "2018-11-06 20:00:38,961 INFO sqlalchemy.engine.base.Engine SELECT CAST('test unicode returns' AS VARCHAR(60)) AS anon_1\n",
      "2018-11-06 20:00:38,963 INFO sqlalchemy.engine.base.Engine ()\n",
      "2018-11-06 20:00:38,968 INFO sqlalchemy.engine.base.Engine PRAGMA table_info(\"car_factory\")\n",
      "2018-11-06 20:00:38,971 INFO sqlalchemy.engine.base.Engine ()\n",
      "2018-11-06 20:00:38,976 INFO sqlalchemy.engine.base.Engine PRAGMA table_info(\"cars\")\n",
      "2018-11-06 20:00:38,979 INFO sqlalchemy.engine.base.Engine ()\n",
      "2018-11-06 20:00:38,982 INFO sqlalchemy.engine.base.Engine \n",
      "CREATE TABLE car_factory (\n",
      "\tid INTEGER NOT NULL, \n",
      "\tbrand VARCHAR NOT NULL, \n",
      "\tPRIMARY KEY (id)\n",
      ")\n",
      "\n",
      "\n",
      "2018-11-06 20:00:38,985 INFO sqlalchemy.engine.base.Engine ()\n",
      "2018-11-06 20:00:39,008 INFO sqlalchemy.engine.base.Engine COMMIT\n",
      "2018-11-06 20:00:39,011 INFO sqlalchemy.engine.base.Engine \n",
      "CREATE TABLE cars (\n",
      "\tid INTEGER NOT NULL, \n",
      "\tpower_engine INTEGER, \n",
      "\tcolor VARCHAR, \n",
      "\tmodel VARCHAR, \n",
      "\tcar_factory_id INTEGER, \n",
      "\tPRIMARY KEY (id), \n",
      "\tFOREIGN KEY(car_factory_id) REFERENCES car_factory (id)\n",
      ")\n",
      "\n",
      "\n",
      "2018-11-06 20:00:39,013 INFO sqlalchemy.engine.base.Engine ()\n",
      "2018-11-06 20:00:39,033 INFO sqlalchemy.engine.base.Engine COMMIT\n"
     ]
    }
   ],
   "source": [
    "Base.metadata.create_all(engine_file)"
   ]
  },
  {
   "cell_type": "code",
   "execution_count": 4,
   "metadata": {
    "collapsed": true
   },
   "outputs": [],
   "source": [
    "fact = Car_Factory(brand='Volkswagen')"
   ]
  },
  {
   "cell_type": "code",
   "execution_count": 5,
   "metadata": {
    "collapsed": true
   },
   "outputs": [],
   "source": [
    "sam1 = Cars(power_engine=89, color='Red', model='Jetta', car_1=fact)\n",
    "sam2 = Cars(power_engine=95, color='Black', model='Golf', car_1=fact)\n",
    "sam3 = Cars(power_engine=67, color='White', model='Polo', car_1=fact)\n",
    "sam4 = Cars(power_engine=80, color='Red', model='Bora', car_1=fact)"
   ]
  },
  {
   "cell_type": "code",
   "execution_count": 6,
   "metadata": {
    "collapsed": true
   },
   "outputs": [],
   "source": [
    "session.add_all([fact, sam1, sam2, sam3, sam4])"
   ]
  },
  {
   "cell_type": "code",
   "execution_count": 7,
   "metadata": {
    "collapsed": false
   },
   "outputs": [
    {
     "name": "stdout",
     "output_type": "stream",
     "text": [
      "2018-11-06 20:01:40,971 INFO sqlalchemy.engine.base.Engine BEGIN (implicit)\n",
      "2018-11-06 20:01:40,974 INFO sqlalchemy.engine.base.Engine INSERT INTO car_factory (brand) VALUES (?)\n",
      "2018-11-06 20:01:40,976 INFO sqlalchemy.engine.base.Engine ('Volkswagen',)\n",
      "2018-11-06 20:01:40,980 INFO sqlalchemy.engine.base.Engine INSERT INTO cars (power_engine, color, model, car_factory_id) VALUES (?, ?, ?, ?)\n",
      "2018-11-06 20:01:40,983 INFO sqlalchemy.engine.base.Engine (89, 'Red', 'Jetta', 1)\n",
      "2018-11-06 20:01:40,985 INFO sqlalchemy.engine.base.Engine INSERT INTO cars (power_engine, color, model, car_factory_id) VALUES (?, ?, ?, ?)\n",
      "2018-11-06 20:01:40,988 INFO sqlalchemy.engine.base.Engine (95, 'Black', 'Golf', 1)\n",
      "2018-11-06 20:01:40,990 INFO sqlalchemy.engine.base.Engine INSERT INTO cars (power_engine, color, model, car_factory_id) VALUES (?, ?, ?, ?)\n",
      "2018-11-06 20:01:40,996 INFO sqlalchemy.engine.base.Engine (67, 'White', 'Polo', 1)\n",
      "2018-11-06 20:01:40,998 INFO sqlalchemy.engine.base.Engine INSERT INTO cars (power_engine, color, model, car_factory_id) VALUES (?, ?, ?, ?)\n",
      "2018-11-06 20:01:41,000 INFO sqlalchemy.engine.base.Engine (80, 'Red', 'Bora', 1)\n",
      "2018-11-06 20:01:41,002 INFO sqlalchemy.engine.base.Engine COMMIT\n"
     ]
    }
   ],
   "source": [
    "session.commit()"
   ]
  },
  {
   "cell_type": "code",
   "execution_count": 8,
   "metadata": {
    "collapsed": false
   },
   "outputs": [
    {
     "name": "stdout",
     "output_type": "stream",
     "text": [
      "2018-11-06 20:01:53,108 INFO sqlalchemy.engine.base.Engine BEGIN (implicit)\n",
      "2018-11-06 20:01:53,131 INFO sqlalchemy.engine.base.Engine SELECT cars.id AS cars_id, cars.power_engine AS cars_power_engine, cars.color AS cars_color, cars.model AS cars_model, cars.car_factory_id AS cars_car_factory_id \n",
      "FROM cars \n",
      "WHERE cars.id = ?\n",
      "2018-11-06 20:01:53,138 INFO sqlalchemy.engine.base.Engine (1,)\n"
     ]
    },
    {
     "data": {
      "text/plain": [
       "\"<class '__main__.Cars'> Jetta with: engine 89KM; Red.\""
      ]
     },
     "execution_count": 8,
     "metadata": {},
     "output_type": "execute_result"
    }
   ],
   "source": [
    "repr(sam1)"
   ]
  },
  {
   "cell_type": "code",
   "execution_count": 10,
   "metadata": {
    "collapsed": false
   },
   "outputs": [
    {
     "name": "stdout",
     "output_type": "stream",
     "text": [
      "2018-11-06 20:02:35,419 INFO sqlalchemy.engine.base.Engine SELECT car_factory.id AS car_factory_id, car_factory.brand AS car_factory_brand \n",
      "FROM car_factory \n",
      "WHERE car_factory.id = ?\n",
      "2018-11-06 20:02:35,431 INFO sqlalchemy.engine.base.Engine (1,)\n"
     ]
    },
    {
     "data": {
      "text/plain": [
       "\"<class '__main__.Car_Factory'> with: Volkswagen\""
      ]
     },
     "execution_count": 10,
     "metadata": {},
     "output_type": "execute_result"
    }
   ],
   "source": [
    "repr(fact)"
   ]
  },
  {
   "cell_type": "code",
   "execution_count": null,
   "metadata": {
    "collapsed": true
   },
   "outputs": [],
   "source": []
  }
 ],
 "metadata": {
  "kernelspec": {
   "display_name": "Python 3",
   "language": "python",
   "name": "python3"
  },
  "language_info": {
   "codemirror_mode": {
    "name": "ipython",
    "version": 3
   },
   "file_extension": ".py",
   "mimetype": "text/x-python",
   "name": "python",
   "nbconvert_exporter": "python",
   "pygments_lexer": "ipython3",
   "version": "3.6.6"
  }
 },
 "nbformat": 4,
 "nbformat_minor": 2
}
