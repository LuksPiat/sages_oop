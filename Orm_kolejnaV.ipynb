{
 "cells": [
  {
   "cell_type": "code",
   "execution_count": 1,
   "metadata": {
    "collapsed": true
   },
   "outputs": [],
   "source": [
    "import sqlalchemy\n",
    "from sqlalchemy import create_engine\n",
    "engine_file = create_engine('sqlite:///orm_nauka3.sqlite', echo=True)\n",
    "from sqlalchemy import Column, Integer, String\n",
    "from sqlalchemy.ext.declarative import declarative_base\n",
    "Base = declarative_base()\n",
    "from sqlalchemy.orm import sessionmaker\n",
    "Session = sessionmaker(bind=engine_file)\n",
    "session = Session()\n",
    "from sqlalchemy import ForeignKey\n",
    "from sqlalchemy.orm import relationship"
   ]
  },
  {
   "cell_type": "code",
   "execution_count": 2,
   "metadata": {
    "collapsed": true
   },
   "outputs": [],
   "source": [
    "class Blok1(Base):\n",
    "    __tablename__ = 'blok1'\n",
    "    __table_args__ = {'extend_existing': True}\n",
    "    id = Column(Integer, primary_key=True)\n",
    "    address = Column(String, nullable=False)\n",
    "    mieszkanie1 = relationship(\"Mieszkania1\", back_populates='blok_1')\n",
    "\n",
    "class Mieszkania1(Base):\n",
    "    __tablename__ = 'mieszkania1'\n",
    "    __table_args__ = {'extend_existing': True}\n",
    "    id = Column(Integer, primary_key=True)\n",
    "    pietr = Column(Integer)\n",
    "    powierzchnia = Column(Integer)\n",
    "    liczba_pokoi = Column(Integer)\n",
    "    blok_1_id = Column(Integer, ForeignKey('blok1.id'))\n",
    "    blok_1 = relationship(\"Blok1\", back_populates='mieszkanie1')"
   ]
  },
  {
   "cell_type": "code",
   "execution_count": 3,
   "metadata": {
    "collapsed": false
   },
   "outputs": [
    {
     "name": "stdout",
     "output_type": "stream",
     "text": [
      "2018-11-05 20:05:01,523 INFO sqlalchemy.engine.base.Engine SELECT CAST('test plain returns' AS VARCHAR(60)) AS anon_1\n",
      "2018-11-05 20:05:01,529 INFO sqlalchemy.engine.base.Engine ()\n",
      "2018-11-05 20:05:01,532 INFO sqlalchemy.engine.base.Engine SELECT CAST('test unicode returns' AS VARCHAR(60)) AS anon_1\n",
      "2018-11-05 20:05:01,535 INFO sqlalchemy.engine.base.Engine ()\n",
      "2018-11-05 20:05:01,539 INFO sqlalchemy.engine.base.Engine PRAGMA table_info(\"blok1\")\n",
      "2018-11-05 20:05:01,543 INFO sqlalchemy.engine.base.Engine ()\n",
      "2018-11-05 20:05:01,548 INFO sqlalchemy.engine.base.Engine PRAGMA table_info(\"mieszkania1\")\n",
      "2018-11-05 20:05:01,552 INFO sqlalchemy.engine.base.Engine ()\n",
      "2018-11-05 20:05:01,560 INFO sqlalchemy.engine.base.Engine \n",
      "CREATE TABLE blok1 (\n",
      "\tid INTEGER NOT NULL, \n",
      "\taddress VARCHAR NOT NULL, \n",
      "\tPRIMARY KEY (id)\n",
      ")\n",
      "\n",
      "\n",
      "2018-11-05 20:05:01,568 INFO sqlalchemy.engine.base.Engine ()\n",
      "2018-11-05 20:05:01,592 INFO sqlalchemy.engine.base.Engine COMMIT\n",
      "2018-11-05 20:05:01,596 INFO sqlalchemy.engine.base.Engine \n",
      "CREATE TABLE mieszkania1 (\n",
      "\tid INTEGER NOT NULL, \n",
      "\tpietr INTEGER, \n",
      "\tpowierzchnia INTEGER, \n",
      "\tliczba_pokoi INTEGER, \n",
      "\tblok_1_id INTEGER, \n",
      "\tPRIMARY KEY (id), \n",
      "\tFOREIGN KEY(blok_1_id) REFERENCES blok1 (id)\n",
      ")\n",
      "\n",
      "\n",
      "2018-11-05 20:05:01,597 INFO sqlalchemy.engine.base.Engine ()\n",
      "2018-11-05 20:05:01,650 INFO sqlalchemy.engine.base.Engine COMMIT\n"
     ]
    }
   ],
   "source": [
    "Base.metadata.create_all(engine_file)"
   ]
  },
  {
   "cell_type": "code",
   "execution_count": 4,
   "metadata": {
    "collapsed": true
   },
   "outputs": [],
   "source": [
    "blok_JK = Blok1(address='Jana Kazimierza 53a')"
   ]
  },
  {
   "cell_type": "code",
   "execution_count": 5,
   "metadata": {
    "collapsed": true
   },
   "outputs": [],
   "source": [
    "m1 = Mieszkania1(pietr=0, powierzchnia=62, liczba_pokoi=3, blok_1=blok_JK)"
   ]
  },
  {
   "cell_type": "code",
   "execution_count": 6,
   "metadata": {
    "collapsed": true
   },
   "outputs": [],
   "source": [
    "m2 = Mieszkania1(pietr=1, powierzchnia=92, liczba_pokoi=5, blok_1=blok_JK)"
   ]
  },
  {
   "cell_type": "code",
   "execution_count": 8,
   "metadata": {
    "collapsed": false
   },
   "outputs": [],
   "source": [
    "session.add_all([blok_JK, m1, m2])"
   ]
  },
  {
   "cell_type": "code",
   "execution_count": 9,
   "metadata": {
    "collapsed": false
   },
   "outputs": [
    {
     "name": "stdout",
     "output_type": "stream",
     "text": [
      "2018-11-05 20:14:19,950 INFO sqlalchemy.engine.base.Engine BEGIN (implicit)\n",
      "2018-11-05 20:14:19,961 INFO sqlalchemy.engine.base.Engine INSERT INTO blok1 (address) VALUES (?)\n",
      "2018-11-05 20:14:19,968 INFO sqlalchemy.engine.base.Engine ('Jana Kazimierza 53a',)\n",
      "2018-11-05 20:14:19,972 INFO sqlalchemy.engine.base.Engine INSERT INTO mieszkania1 (pietr, powierzchnia, liczba_pokoi, blok_1_id) VALUES (?, ?, ?, ?)\n",
      "2018-11-05 20:14:19,981 INFO sqlalchemy.engine.base.Engine (0, 62, 3, 1)\n",
      "2018-11-05 20:14:19,992 INFO sqlalchemy.engine.base.Engine INSERT INTO mieszkania1 (pietr, powierzchnia, liczba_pokoi, blok_1_id) VALUES (?, ?, ?, ?)\n",
      "2018-11-05 20:14:19,996 INFO sqlalchemy.engine.base.Engine (1, 92, 5, 1)\n",
      "2018-11-05 20:14:20,005 INFO sqlalchemy.engine.base.Engine COMMIT\n"
     ]
    }
   ],
   "source": [
    "session.commit()"
   ]
  },
  {
   "cell_type": "code",
   "execution_count": 14,
   "metadata": {
    "collapsed": false
   },
   "outputs": [],
   "source": [
    "m3 = Mieszkania1(pietr=9, powierzchnia=86, liczba_pokoi=4, blok_1=blok_JK)"
   ]
  },
  {
   "cell_type": "code",
   "execution_count": 15,
   "metadata": {
    "collapsed": true
   },
   "outputs": [],
   "source": [
    "session.add(m3)"
   ]
  },
  {
   "cell_type": "code",
   "execution_count": 16,
   "metadata": {
    "collapsed": false
   },
   "outputs": [
    {
     "name": "stdout",
     "output_type": "stream",
     "text": [
      "2018-11-05 20:22:49,848 INFO sqlalchemy.engine.base.Engine INSERT INTO mieszkania1 (pietr, powierzchnia, liczba_pokoi, blok_1_id) VALUES (?, ?, ?, ?)\n",
      "2018-11-05 20:22:49,881 INFO sqlalchemy.engine.base.Engine (9, 86, 4, 1)\n",
      "2018-11-05 20:22:49,889 INFO sqlalchemy.engine.base.Engine COMMIT\n"
     ]
    }
   ],
   "source": [
    "session.commit()"
   ]
  },
  {
   "cell_type": "code",
   "execution_count": 18,
   "metadata": {
    "collapsed": false
   },
   "outputs": [
    {
     "name": "stdout",
     "output_type": "stream",
     "text": [
      "2018-11-05 20:27:16,079 INFO sqlalchemy.engine.base.Engine SELECT count(*) AS count_1 \n",
      "FROM (SELECT mieszkania1.id AS mieszkania1_id, mieszkania1.pietr AS mieszkania1_pietr, mieszkania1.powierzchnia AS mieszkania1_powierzchnia, mieszkania1.liczba_pokoi AS mieszkania1_liczba_pokoi, mieszkania1.blok_1_id AS mieszkania1_blok_1_id \n",
      "FROM mieszkania1) AS anon_1\n",
      "2018-11-05 20:27:16,095 INFO sqlalchemy.engine.base.Engine ()\n"
     ]
    },
    {
     "data": {
      "text/plain": [
       "3"
      ]
     },
     "execution_count": 18,
     "metadata": {},
     "output_type": "execute_result"
    }
   ],
   "source": [
    "session.query(Mieszkania1).count()"
   ]
  },
  {
   "cell_type": "code",
   "execution_count": null,
   "metadata": {
    "collapsed": true
   },
   "outputs": [],
   "source": []
  }
 ],
 "metadata": {
  "kernelspec": {
   "display_name": "Python 3",
   "language": "python",
   "name": "python3"
  },
  "language_info": {
   "codemirror_mode": {
    "name": "ipython",
    "version": 3
   },
   "file_extension": ".py",
   "mimetype": "text/x-python",
   "name": "python",
   "nbconvert_exporter": "python",
   "pygments_lexer": "ipython3",
   "version": "3.6.6"
  }
 },
 "nbformat": 4,
 "nbformat_minor": 2
}
