{
 "cells": [
  {
   "cell_type": "code",
   "execution_count": 132,
   "metadata": {
    "collapsed": false
   },
   "outputs": [],
   "source": [
    "import random\n",
    "class Cars:\n",
    "    \n",
    "    unike_id = 0\n",
    "    przebieg_all = 0\n",
    "    all_spl = 0\n",
    "    \n",
    "    def __init__(self, marka, model, silnik, spalanie, przebieg, kolor=None):\n",
    "        self.marka = marka\n",
    "        self.model = model\n",
    "        self.silnik = silnik\n",
    "        self.spalanie = spalanie\n",
    "        self.przebieg = przebieg\n",
    "        self.kolor = kolor\n",
    "        self.przebieg_all = Cars.przebieg_all\n",
    "        Cars.przebieg_all += self.przebieg\n",
    "        self.all_spl = Cars.all_spl\n",
    "        Cars.all_spl += self.spalanie\n",
    "        self.unike_id = Cars.unike_id\n",
    "        Cars.unike_id += 1\n",
    "        \n",
    "        \n",
    "        if self.kolor == None:\n",
    "            kolor1 = ['czerwony', 'bialy', 'zielony']\n",
    "            self.kolor = random.choice(kolor1)\n",
    "            \n",
    "    def __repr__(self):\n",
    "        return \"{klasa}: Nr. {nr}. {marka} {model}: o mocy silnika {silnik_m}KM i kolor: {kl}\".format(\n",
    "            klasa=self.__class__,\n",
    "            nr=self.unike_id,\n",
    "            marka=self.marka, \n",
    "            model=self.model,\n",
    "            silnik_m=self.silnik,\n",
    "            kl=self.kolor)\n",
    "    def kozty_utrzym(self):\n",
    "        litr = 5.13\n",
    "        koszt = ((self.przebieg/100)*self.spalanie)*litr\n",
    "        return \"Utzrymanie samochodu kosztowalo Cie do tej pory: {kszt} PLN\".format(kszt=koszt)\n",
    "    \n",
    "    @classmethod\n",
    "    def avr_spalanie(self):\n",
    "        return round(Cars.all_spl/Cars.unike_id, 2)\n",
    "    \n",
    "    "
   ]
  },
  {
   "cell_type": "code",
   "execution_count": 133,
   "metadata": {
    "collapsed": false
   },
   "outputs": [],
   "source": [
    "c1 = Cars('Volkswagen', 'Jetta', 78, 6, 30000, 'czerwony')\n",
    "c2 = Cars('Volkswagen', 'Golf', 92, 7, 200000)\n",
    "c3 = Cars('Skoda', 'Oktavia', 90, 5, 120000)"
   ]
  },
  {
   "cell_type": "code",
   "execution_count": 134,
   "metadata": {
    "collapsed": false
   },
   "outputs": [
    {
     "data": {
      "text/plain": [
       "\"<class '__main__.Cars'>: Nr. 0. Volkswagen Jetta: o mocy silnika 78KM i kolor: czerwony\""
      ]
     },
     "execution_count": 134,
     "metadata": {},
     "output_type": "execute_result"
    }
   ],
   "source": [
    "repr(c1)"
   ]
  },
  {
   "cell_type": "code",
   "execution_count": 135,
   "metadata": {
    "collapsed": false
   },
   "outputs": [
    {
     "data": {
      "text/plain": [
       "\"<class '__main__.Cars'>: Nr. 1. Volkswagen Golf: o mocy silnika 92KM i kolor: bialy\""
      ]
     },
     "execution_count": 135,
     "metadata": {},
     "output_type": "execute_result"
    }
   ],
   "source": [
    "repr(c2)"
   ]
  },
  {
   "cell_type": "code",
   "execution_count": 136,
   "metadata": {
    "collapsed": false
   },
   "outputs": [
    {
     "data": {
      "text/plain": [
       "\"<class '__main__.Cars'>: Nr. 2. Skoda Oktavia: o mocy silnika 90KM i kolor: bialy\""
      ]
     },
     "execution_count": 136,
     "metadata": {},
     "output_type": "execute_result"
    }
   ],
   "source": [
    "repr(c3)"
   ]
  },
  {
   "cell_type": "code",
   "execution_count": 137,
   "metadata": {
    "collapsed": false
   },
   "outputs": [
    {
     "data": {
      "text/plain": [
       "3"
      ]
     },
     "execution_count": 137,
     "metadata": {},
     "output_type": "execute_result"
    }
   ],
   "source": [
    "Cars.unike_id"
   ]
  },
  {
   "cell_type": "code",
   "execution_count": 138,
   "metadata": {
    "collapsed": false
   },
   "outputs": [
    {
     "data": {
      "text/plain": [
       "350000"
      ]
     },
     "execution_count": 138,
     "metadata": {},
     "output_type": "execute_result"
    }
   ],
   "source": [
    "Cars.przebieg_all"
   ]
  },
  {
   "cell_type": "code",
   "execution_count": 139,
   "metadata": {
    "collapsed": false
   },
   "outputs": [
    {
     "data": {
      "text/plain": [
       "18"
      ]
     },
     "execution_count": 139,
     "metadata": {},
     "output_type": "execute_result"
    }
   ],
   "source": [
    "Cars.all_spl"
   ]
  },
  {
   "cell_type": "code",
   "execution_count": 140,
   "metadata": {
    "collapsed": false
   },
   "outputs": [
    {
     "data": {
      "text/plain": [
       "6.0"
      ]
     },
     "execution_count": 140,
     "metadata": {},
     "output_type": "execute_result"
    }
   ],
   "source": [
    "Cars.avr_spalanie()"
   ]
  },
  {
   "cell_type": "code",
   "execution_count": 141,
   "metadata": {
    "collapsed": false
   },
   "outputs": [
    {
     "data": {
      "text/plain": [
       "'Utzrymanie samochodu kosztowalo Cie do tej pory: 9234.0 PLN'"
      ]
     },
     "execution_count": 141,
     "metadata": {},
     "output_type": "execute_result"
    }
   ],
   "source": [
    "c1.kozty_utrzym()"
   ]
  },
  {
   "cell_type": "code",
   "execution_count": null,
   "metadata": {
    "collapsed": true
   },
   "outputs": [],
   "source": []
  }
 ],
 "metadata": {
  "kernelspec": {
   "display_name": "Python 3",
   "language": "python",
   "name": "python3"
  },
  "language_info": {
   "codemirror_mode": {
    "name": "ipython",
    "version": 3
   },
   "file_extension": ".py",
   "mimetype": "text/x-python",
   "name": "python",
   "nbconvert_exporter": "python",
   "pygments_lexer": "ipython3",
   "version": "3.6.6"
  }
 },
 "nbformat": 4,
 "nbformat_minor": 2
}
